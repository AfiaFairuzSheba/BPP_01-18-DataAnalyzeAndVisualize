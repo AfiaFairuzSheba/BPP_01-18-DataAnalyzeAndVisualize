{
  "nbformat": 4,
  "nbformat_minor": 0,
  "metadata": {
    "colab": {
      "provenance": []
    },
    "kernelspec": {
      "name": "python3",
      "display_name": "Python 3"
    },
    "language_info": {
      "name": "python"
    }
  },
  "cells": [
    {
      "cell_type": "code",
      "execution_count": null,
      "metadata": {
        "colab": {
          "base_uri": "https://localhost:8080/"
        },
        "id": "9vcrw2-IVqxW",
        "outputId": "dda535c2-9923-48ee-d3a3-1e4becd79fcb"
      },
      "outputs": [
        {
          "output_type": "stream",
          "name": "stdout",
          "text": [
            "--2024-12-20 14:00:40--  https://raw.githubusercontent.com/Abdullahfoysal/pp11-Project-AnalyzeAndVisualize/refs/heads/main/student_data.csv\n",
            "Resolving raw.githubusercontent.com (raw.githubusercontent.com)... 185.199.110.133, 185.199.109.133, 185.199.111.133, ...\n",
            "Connecting to raw.githubusercontent.com (raw.githubusercontent.com)|185.199.110.133|:443... connected.\n",
            "HTTP request sent, awaiting response... 200 OK\n",
            "Length: 133023 (130K) [text/plain]\n",
            "Saving to: ‘student_data.csv.1’\n",
            "\n",
            "student_data.csv.1  100%[===================>] 129.91K  --.-KB/s    in 0.1s    \n",
            "\n",
            "2024-12-20 14:00:40 (1.08 MB/s) - ‘student_data.csv.1’ saved [133023/133023]\n",
            "\n"
          ]
        }
      ],
      "source": [
        "import pandas as pd\n",
        "import matplotlib.pyplot as plt\n"
      ]
    },
    {
      "cell_type": "code",
      "source": [
        "!wget https://raw.githubusercontent.com/Abdullahfoysal/pp11-Project-AnalyzeAndVisualize/refs/heads/main/student_data.csv\n"
      ],
      "metadata": {
        "id": "hYd-7o5HfIMv"
      },
      "execution_count": null,
      "outputs": []
    },
    {
      "cell_type": "code",
      "source": [
        "df = pd.read_csv(\"student_data.csv\")"
      ],
      "metadata": {
        "id": "2jFJs8UnkwEi"
      },
      "execution_count": 11,
      "outputs": []
    },
    {
      "cell_type": "code",
      "source": [
        "#count the number of students above cgpa>3.5\n",
        "filtered = df[df[\"cgpa\"] > 3.5]\n",
        "print(filtered.sample(2))\n",
        "filtered.size"
      ],
      "metadata": {
        "colab": {
          "base_uri": "https://localhost:8080/"
        },
        "id": "9hyOWsQGk7EB",
        "outputId": "ddcea8b0-1800-43b4-9700-5a2d21ae5215"
      },
      "execution_count": 15,
      "outputs": [
        {
          "output_type": "stream",
          "name": "stdout",
          "text": [
            "      id first_name last_name                      email      gender  \\\n",
            "931  932    Bartlet    Carmel        bcarmelpv@wired.com        Male   \n",
            "234  235  Michaella   Lathaye  mlathaye6i@cloudflare.com  Polygender   \n",
            "\n",
            "          ip_address  cgpa  passing_year department  attendance home_district  \\\n",
            "931  152.217.236.164  3.71        2014.0   Medicine         NaN      New York   \n",
            "234   152.211.117.71  3.66        2006.0       Arts       93.03         Miami   \n",
            "\n",
            "     abroad_study  student_id  graduation_date study_abroad_country  \\\n",
            "931          True         932             2018            Indonesia   \n",
            "234          True         235             2014               Sweden   \n",
            "\n",
            "    study_abroad_city  hsc_gpa  ssc_gpa  \n",
            "931            Suwaru        5        1  \n",
            "234        Norrköping        2        4  \n"
          ]
        },
        {
          "output_type": "execute_result",
          "data": {
            "text/plain": [
              "1710"
            ]
          },
          "metadata": {},
          "execution_count": 15
        }
      ]
    },
    {
      "cell_type": "code",
      "source": [
        "\n"
      ],
      "metadata": {
        "id": "0yDyIUoxlYV5"
      },
      "execution_count": null,
      "outputs": []
    }
  ]
}